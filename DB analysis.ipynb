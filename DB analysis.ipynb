{
 "cells": [
  {
   "cell_type": "code",
   "execution_count": 1,
   "metadata": {},
   "outputs": [
    {
     "data": {
      "text/plain": [
       "'/Users/oslikdau/in_progress/_news narratives/TG scraping/telegram-tracker'"
      ]
     },
     "execution_count": 1,
     "metadata": {},
     "output_type": "execute_result"
    }
   ],
   "source": [
    "pwd"
   ]
  },
  {
   "cell_type": "code",
   "execution_count": 2,
   "metadata": {},
   "outputs": [],
   "source": [
    "import pandas as pd\n",
    "from datetime import datetime\n",
    "from pytz import utc"
   ]
  },
  {
   "attachments": {},
   "cell_type": "markdown",
   "metadata": {},
   "source": [
    "## Open CSV Database"
   ]
  },
  {
   "cell_type": "code",
   "execution_count": 3,
   "metadata": {},
   "outputs": [
    {
     "name": "stderr",
     "output_type": "stream",
     "text": [
      "/var/folders/00/jtb7c8xn51902fgjqt4qh5h80000gp/T/ipykernel_57367/4121249504.py:1: DtypeWarning: Columns (14,16,17,18,19,22,26,27,28,29,30,33,35,37,41) have mixed types. Specify dtype option on import or set low_memory=False.\n",
      "  df_messages = pd.read_csv('/Users/oslikdau/in_progress/_news narratives/TG scraping/telegram-tracker/output/data/msgs_dataset.csv')\n"
     ]
    }
   ],
   "source": [
    "df_messages = pd.read_csv('/Users/oslikdau/in_progress/_news narratives/TG scraping/telegram-tracker/output/data/msgs_dataset.csv')"
   ]
  },
  {
   "cell_type": "code",
   "execution_count": 4,
   "metadata": {},
   "outputs": [
    {
     "name": "stdout",
     "output_type": "stream",
     "text": [
      "The file contains 992K messages\n",
      "N of channels 11\n"
     ]
    }
   ],
   "source": [
    "print(f\"The file contains {round(df_messages.shape[0]/1000)}K messages\")\n",
    "print(f\"N of channels {df_messages['channel_id'].nunique()}\")"
   ]
  },
  {
   "cell_type": "code",
   "execution_count": 88,
   "metadata": {},
   "outputs": [
    {
     "data": {
      "text/plain": [
       "rt_russian           316770\n",
       "rian_ru              204610\n",
       "meduzalive           169360\n",
       "ntvnews              113920\n",
       "readovkanews          59745\n",
       "bbcrussian            46656\n",
       "thebell_io            22537\n",
       "news_1tv              21236\n",
       "redakciya_channel     19167\n",
       "tvrussia1             18105\n",
       "tchantest               168\n",
       "Name: channel_name, dtype: int64"
      ]
     },
     "execution_count": 88,
     "metadata": {},
     "output_type": "execute_result"
    }
   ],
   "source": [
    "df_messages['channel_name'].value_counts()"
   ]
  },
  {
   "cell_type": "code",
   "execution_count": 27,
   "metadata": {},
   "outputs": [
    {
     "data": {
      "text/plain": [
       "rt_russian    158051\n",
       "meduzalive     84680\n",
       "tchantest         84\n",
       "Name: channel_name, dtype: int64"
      ]
     },
     "execution_count": 27,
     "metadata": {},
     "output_type": "execute_result"
    }
   ],
   "source": [
    "df_messages['channel_name'].value_counts()"
   ]
  },
  {
   "cell_type": "code",
   "execution_count": 6,
   "metadata": {},
   "outputs": [
    {
     "data": {
      "text/plain": [
       "Index(['signature', 'channel_id', 'channel_name', 'msg_id', 'message',\n",
       "       'cleaned_message', 'date', 'msg_link', 'msg_from_peer', 'msg_from_id',\n",
       "       'views', 'number_replies', 'number_forwards', 'is_forward',\n",
       "       'forward_msg_from_peer_type', 'forward_msg_from_peer_id',\n",
       "       'forward_msg_from_peer_name', 'forward_msg_date',\n",
       "       'forward_msg_date_string', 'forward_msg_link', 'is_reply',\n",
       "       'reply_to_msg_id', 'reply_msg_link', 'contains_media', 'media_type',\n",
       "       'has_url', 'url', 'domain', 'url_title', 'url_description',\n",
       "       'document_type', 'document_id', 'document_video_duration',\n",
       "       'document_filename', 'poll_id', 'poll_question', 'poll_total_voters',\n",
       "       'poll_results', 'contact_phone_number', 'contact_name',\n",
       "       'contact_userid', 'geo_type', 'lat', 'lng', 'venue_id', 'venue_type',\n",
       "       'venue_title', 'venue_address', 'venue_provider'],\n",
       "      dtype='object')"
      ]
     },
     "execution_count": 6,
     "metadata": {},
     "output_type": "execute_result"
    }
   ],
   "source": [
    "df_messages.columns"
   ]
  },
  {
   "cell_type": "code",
   "execution_count": 12,
   "metadata": {},
   "outputs": [],
   "source": [
    "df_messages['date'] = pd.to_datetime(df_messages['date'])"
   ]
  },
  {
   "cell_type": "code",
   "execution_count": 22,
   "metadata": {},
   "outputs": [
    {
     "data": {
      "text/html": [
       "<div>\n",
       "<style scoped>\n",
       "    .dataframe tbody tr th:only-of-type {\n",
       "        vertical-align: middle;\n",
       "    }\n",
       "\n",
       "    .dataframe tbody tr th {\n",
       "        vertical-align: top;\n",
       "    }\n",
       "\n",
       "    .dataframe thead th {\n",
       "        text-align: right;\n",
       "    }\n",
       "</style>\n",
       "<table border=\"1\" class=\"dataframe\">\n",
       "  <thead>\n",
       "    <tr style=\"text-align: right;\">\n",
       "      <th></th>\n",
       "      <th>channel_name</th>\n",
       "      <th>msg_id</th>\n",
       "      <th>message</th>\n",
       "      <th>date</th>\n",
       "    </tr>\n",
       "  </thead>\n",
       "  <tbody>\n",
       "    <tr>\n",
       "      <th>158135</th>\n",
       "      <td>meduzalive</td>\n",
       "      <td>85602</td>\n",
       "      <td>В Запорожской области в результате обстрела ро...</td>\n",
       "      <td>2023-06-10 15:01:23+00:00</td>\n",
       "    </tr>\n",
       "    <tr>\n",
       "      <th>158136</th>\n",
       "      <td>meduzalive</td>\n",
       "      <td>85601</td>\n",
       "      <td>Режиссер документального сериала «Диссиденты и...</td>\n",
       "      <td>2023-06-10 14:49:01+00:00</td>\n",
       "    </tr>\n",
       "    <tr>\n",
       "      <th>158137</th>\n",
       "      <td>meduzalive</td>\n",
       "      <td>85600</td>\n",
       "      <td>Ивана Жданова забросали яйцами в Женеве на отк...</td>\n",
       "      <td>2023-06-10 14:28:35+00:00</td>\n",
       "    </tr>\n",
       "    <tr>\n",
       "      <th>158138</th>\n",
       "      <td>meduzalive</td>\n",
       "      <td>85599</td>\n",
       "      <td>Западные чиновники не ожидают полного освобожд...</td>\n",
       "      <td>2023-06-10 14:02:10+00:00</td>\n",
       "    </tr>\n",
       "    <tr>\n",
       "      <th>158139</th>\n",
       "      <td>meduzalive</td>\n",
       "      <td>85598</td>\n",
       "      <td>«Все сейчас настроены позитивно. Так Путину и ...</td>\n",
       "      <td>2023-06-10 13:50:01+00:00</td>\n",
       "    </tr>\n",
       "    <tr>\n",
       "      <th>...</th>\n",
       "      <td>...</td>\n",
       "      <td>...</td>\n",
       "      <td>...</td>\n",
       "      <td>...</td>\n",
       "    </tr>\n",
       "    <tr>\n",
       "      <th>206864</th>\n",
       "      <td>meduzalive</td>\n",
       "      <td>36414</td>\n",
       "      <td>О чем этот тест? О том, что обычно болит 1 янв...</td>\n",
       "      <td>2021-01-01 10:00:16+00:00</td>\n",
       "    </tr>\n",
       "    <tr>\n",
       "      <th>206865</th>\n",
       "      <td>meduzalive</td>\n",
       "      <td>36413</td>\n",
       "      <td>Наташа, вставай и посмотри на это: природа нас...</td>\n",
       "      <td>2021-01-01 09:49:50+00:00</td>\n",
       "    </tr>\n",
       "    <tr>\n",
       "      <th>206866</th>\n",
       "      <td>meduzalive</td>\n",
       "      <td>36412</td>\n",
       "      <td>Верится с трудом, но прошла уже четверть века ...</td>\n",
       "      <td>2021-01-01 08:49:50+00:00</td>\n",
       "    </tr>\n",
       "    <tr>\n",
       "      <th>206867</th>\n",
       "      <td>meduzalive</td>\n",
       "      <td>36411</td>\n",
       "      <td>\\nНе успели мы проснуться в Новом году, как в...</td>\n",
       "      <td>2021-01-01 07:49:50+00:00</td>\n",
       "    </tr>\n",
       "    <tr>\n",
       "      <th>206868</th>\n",
       "      <td>meduzalive</td>\n",
       "      <td>36410</td>\n",
       "      <td>В специальном новогоднем эпизоде «Чего бы посм...</td>\n",
       "      <td>2021-01-01 06:49:50+00:00</td>\n",
       "    </tr>\n",
       "  </tbody>\n",
       "</table>\n",
       "<p>48734 rows × 4 columns</p>\n",
       "</div>"
      ],
      "text/plain": [
       "       channel_name  msg_id  \\\n",
       "158135   meduzalive   85602   \n",
       "158136   meduzalive   85601   \n",
       "158137   meduzalive   85600   \n",
       "158138   meduzalive   85599   \n",
       "158139   meduzalive   85598   \n",
       "...             ...     ...   \n",
       "206864   meduzalive   36414   \n",
       "206865   meduzalive   36413   \n",
       "206866   meduzalive   36412   \n",
       "206867   meduzalive   36411   \n",
       "206868   meduzalive   36410   \n",
       "\n",
       "                                                  message  \\\n",
       "158135  В Запорожской области в результате обстрела ро...   \n",
       "158136  Режиссер документального сериала «Диссиденты и...   \n",
       "158137  Ивана Жданова забросали яйцами в Женеве на отк...   \n",
       "158138  Западные чиновники не ожидают полного освобожд...   \n",
       "158139  «Все сейчас настроены позитивно. Так Путину и ...   \n",
       "...                                                   ...   \n",
       "206864  О чем этот тест? О том, что обычно болит 1 янв...   \n",
       "206865  Наташа, вставай и посмотри на это: природа нас...   \n",
       "206866  Верится с трудом, но прошла уже четверть века ...   \n",
       "206867   \\nНе успели мы проснуться в Новом году, как в...   \n",
       "206868  В специальном новогоднем эпизоде «Чего бы посм...   \n",
       "\n",
       "                            date  \n",
       "158135 2023-06-10 15:01:23+00:00  \n",
       "158136 2023-06-10 14:49:01+00:00  \n",
       "158137 2023-06-10 14:28:35+00:00  \n",
       "158138 2023-06-10 14:02:10+00:00  \n",
       "158139 2023-06-10 13:50:01+00:00  \n",
       "...                          ...  \n",
       "206864 2021-01-01 10:00:16+00:00  \n",
       "206865 2021-01-01 09:49:50+00:00  \n",
       "206866 2021-01-01 08:49:50+00:00  \n",
       "206867 2021-01-01 07:49:50+00:00  \n",
       "206868 2021-01-01 06:49:50+00:00  \n",
       "\n",
       "[48734 rows x 4 columns]"
      ]
     },
     "execution_count": 22,
     "metadata": {},
     "output_type": "execute_result"
    }
   ],
   "source": [
    "df_messages[(df_messages['channel_name'] == 'meduzalive') & (df_messages['date'] > utc.localize(datetime(year=2021, month=1, day=1)))][['channel_name', 'msg_id', 'message', 'date']]"
   ]
  },
  {
   "cell_type": "code",
   "execution_count": 17,
   "metadata": {},
   "outputs": [
    {
     "data": {
      "text/plain": [
       "datetime64[ns, UTC]"
      ]
     },
     "execution_count": 17,
     "metadata": {},
     "output_type": "execute_result"
    }
   ],
   "source": [
    "df_messages['date'].dtype"
   ]
  },
  {
   "attachments": {},
   "cell_type": "markdown",
   "metadata": {},
   "source": [
    "## Open JSON files"
   ]
  },
  {
   "cell_type": "code",
   "execution_count": 38,
   "metadata": {},
   "outputs": [],
   "source": [
    "# read json file\n",
    "import json\n",
    "with open('/Users/oslikdau/in_progress/_news narratives/TG scraping/telegram-tracker/output/data/bbcrussian/bbcrussian_messages.json') as f:\n",
    "    data = json.load(f)"
   ]
  },
  {
   "cell_type": "code",
   "execution_count": 50,
   "metadata": {},
   "outputs": [
    {
     "data": {
      "text/plain": [
       "dict_keys(['_', 'pts', 'count', 'messages', 'topics', 'chats', 'users', 'inexact', 'offset_id_offset'])"
      ]
     },
     "execution_count": 50,
     "metadata": {},
     "output_type": "execute_result"
    }
   ],
   "source": [
    "data.keys()"
   ]
  },
  {
   "attachments": {},
   "cell_type": "markdown",
   "metadata": {},
   "source": [
    "В остальных ключах похоже ничего интересного нет. "
   ]
  },
  {
   "cell_type": "code",
   "execution_count": 44,
   "metadata": {},
   "outputs": [],
   "source": [
    "# convert json to dataframe\n",
    "df = pd.DataFrame.from_dict(data['messages'])"
   ]
  },
  {
   "cell_type": "code",
   "execution_count": 47,
   "metadata": {},
   "outputs": [
    {
     "data": {
      "text/plain": [
       "(113, 0.0024161303427484015)"
      ]
     },
     "execution_count": 47,
     "metadata": {},
     "output_type": "execute_result"
    }
   ],
   "source": [
    "df['message'].isna().sum(), df['message'].isna().sum() / df.shape[0]"
   ]
  },
  {
   "cell_type": "code",
   "execution_count": 49,
   "metadata": {},
   "outputs": [
    {
     "data": {
      "text/plain": [
       "Index(['_', 'id', 'peer_id', 'date', 'message', 'out', 'mentioned',\n",
       "       'media_unread', 'silent', 'post', 'from_scheduled', 'legacy',\n",
       "       'edit_hide', 'pinned', 'noforwards', 'from_id', 'fwd_from',\n",
       "       'via_bot_id', 'reply_to', 'media', 'reply_markup', 'entities', 'views',\n",
       "       'forwards', 'replies', 'edit_date', 'post_author', 'grouped_id',\n",
       "       'reactions', 'restriction_reason', 'ttl_period', 'action'],\n",
       "      dtype='object')"
      ]
     },
     "execution_count": 49,
     "metadata": {},
     "output_type": "execute_result"
    }
   ],
   "source": [
    "df.columns"
   ]
  },
  {
   "cell_type": "code",
   "execution_count": 84,
   "metadata": {},
   "outputs": [
    {
     "data": {
      "text/plain": [
       "0       NaN\n",
       "1       NaN\n",
       "2       NaN\n",
       "3       NaN\n",
       "4       NaN\n",
       "         ..\n",
       "46764   NaN\n",
       "46765   NaN\n",
       "46766   NaN\n",
       "46767   NaN\n",
       "46768   NaN\n",
       "Name: reactions, Length: 46769, dtype: float64"
      ]
     },
     "execution_count": 84,
     "metadata": {},
     "output_type": "execute_result"
    }
   ],
   "source": [
    "df['reactions']"
   ]
  }
 ],
 "metadata": {
  "kernelspec": {
   "display_name": "bertopic",
   "language": "python",
   "name": "python3"
  },
  "language_info": {
   "codemirror_mode": {
    "name": "ipython",
    "version": 3
   },
   "file_extension": ".py",
   "mimetype": "text/x-python",
   "name": "python",
   "nbconvert_exporter": "python",
   "pygments_lexer": "ipython3",
   "version": "3.10.9"
  },
  "orig_nbformat": 4
 },
 "nbformat": 4,
 "nbformat_minor": 2
}
